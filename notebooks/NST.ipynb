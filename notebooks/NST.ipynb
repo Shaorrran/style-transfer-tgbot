{
  "cells": [
    {
      "cell_type": "markdown",
      "source": [
        "# Imports"
      ],
      "metadata": {
        "id": "ud24EThsJ5Nh"
      }
    },
    {
      "cell_type": "code",
      "source": [
        "!pip install torchsummary"
      ],
      "metadata": {
        "id": "DQv5KY_LLaf5"
      },
      "execution_count": null,
      "outputs": []
    },
    {
      "cell_type": "code",
      "source": [
        "import glob\n",
        "import os\n",
        "import random\n",
        "import time\n",
        "\n",
        "import IPython.display\n",
        "\n",
        "import numpy as np\n",
        "import pandas as pd\n",
        "\n",
        "import matplotlib.pyplot as plt\n",
        "%matplotlib inline\n",
        "\n",
        "import skimage\n",
        "import skimage.io\n",
        "import skimage.transform\n",
        "\n",
        "import tqdm.auto as tqdm\n",
        "\n",
        "import torch\n",
        "import torch.nn.functional as torch.F\n",
        "\n",
        "import torchvision\n",
        "\n",
        "import torchsummary"
      ],
      "metadata": {
        "id": "eOhvtnD5J49-"
      },
      "execution_count": null,
      "outputs": []
    },
    {
      "cell_type": "markdown",
      "source": [
        "# Setting random seeds"
      ],
      "metadata": {
        "id": "a20tbSYkLmHc"
      }
    },
    {
      "cell_type": "code",
      "source": [
        "RANDOM_STATE = 42\n",
        "random.seed(RANDOM_STATE)\n",
        "os.environ['PYTHONHASHSEED'] = str(RANDOM_STATE)\n",
        "np.random.seed(RANDOM_STATE)\n",
        "torch.manual_seed(RANDOM_STATE)\n",
        "torch.cuda.manual_seed(RANDOM_STATE)\n",
        "torch.cuda.manual_seed_all(RANDOM_STATE)"
      ],
      "metadata": {
        "id": "mxq29ZwVLqJz"
      },
      "execution_count": null,
      "outputs": []
    },
    {
      "cell_type": "markdown",
      "source": [
        "# Determining device"
      ],
      "metadata": {
        "id": "8aWsRicMMXxH"
      }
    },
    {
      "cell_type": "code",
      "source": [
        "DEVICE = torch.device(\"cuda\" if torch.cuda.is_available() else \"cpu\")\n",
        "print(DEVICE)"
      ],
      "metadata": {
        "id": "XtZOpwh-MZvB"
      },
      "execution_count": null,
      "outputs": []
    },
    {
      "cell_type": "markdown",
      "source": [
        "# Setting globals"
      ],
      "metadata": {
        "id": "K--tlf-bNvPJ"
      }
    },
    {
      "cell_type": "code",
      "source": [
        "BATCH_SIZE = 512 # @param [512] {allow-input: true}\n",
        "IMAGE_SIZE = 128 # @param [128] {allow-input: true}\n",
        "NORMALIZATION_PARAMS = {\"mean\": (0.485, 0.456, 0.406),\n",
        "                        \"std\": (0.229, 0.224, 0.225)}"
      ],
      "metadata": {
        "id": "moKn5k7UOBsg"
      },
      "execution_count": null,
      "outputs": []
    },
    {
      "cell_type": "markdown",
      "source": [
        "# Helper functions and classes"
      ],
      "metadata": {
        "id": "vCHZO0NlS9kS"
      }
    },
    {
      "cell_type": "code",
      "source": [
        "def denormalize_image(image):\n",
        "    return np.clip(image * NORMALIZATION_PARAMS[\"std\"] + NORMALIZATION_PARAMS[\"mean\"], 0, 1)\n",
        "\n",
        "class PreprocessedDataset(torchvision.Dataset):\n",
        "    def __init__(self, content_dir, style_dir, transforms=None):\n",
        "        content_dir_resized = content_dir + \"_resized\"\n",
        "        style_dir_resized = style_dir + \"_resized\"\n",
        "        if not (os.path.exists(content_dir_resized) and os.path.exists(content_dir_resized)):\n",
        "            os.mkdir(content_dir_resized)\n",
        "            os.mkdir(style_dir_resized)\n",
        "            self._resize(content_dir, content_dir_resized)\n",
        "            self._resize(style_dir, style_dir_resized)\n",
        "        content_images = glob.glob(content_dir_resized + \"/*\")\n",
        "        style_images = glob.glob(style_dir_resized + \"/*\")\n",
        "        self.images = list(zip(content_images, style_images))\n",
        "        self.transforms = transforms\n",
        "\n",
        "    def __len__(self):\n",
        "        return len(self.images)\n",
        "\n",
        "    def __getitem__(self, idx):\n",
        "        content, style = self.images[idx]\n",
        "        content_img = torch.Tensor(skimage.io.imread(content))\n",
        "        style_img = torch.Tensor(skimage.io.imread(style))\n",
        "        if self.transforms:\n",
        "            content_img, style_img = self.transforms(content_img), self.transforms(style_img)\n",
        "        return content_img, style_img\n",
        "\n",
        "    @staticmethod\n",
        "    def _resize(source, target):\n",
        "        for i tqdm.tqdm(os.listdir(source), desc=\"Resizing images\", unit=\"images\", unit_scale=False):\n",
        "            try:\n",
        "                image = skimage.io.imread(os.path.join(source, os.path.basename(i)))\n",
        "                resized = skimage.transform.resize(image, (IMAGE_SIZE, IMAGE_SIZE), anti_aliasing=True)\n",
        "                skimage.io.imsave(os.path.join(target, os.path.basename(i)), resized)\n",
        "            except:\n",
        "                continue    "
      ],
      "metadata": {
        "id": "brHE-1DxTIlg"
      },
      "execution_count": null,
      "outputs": []
    },
    {
      "cell_type": "code",
      "source": [
        "class AdaptiveInstanceNorm2d(torch.nn.Module):\n",
        "    def __init__(self, eps=1e-6):\n",
        "        super().__init__()\n",
        "        self.eps = eps\n",
        "\n",
        "    def _get_mean(self, features):\n",
        "        batch_size, c = features.size()[:2]\n",
        "        features_mean = features.reshape(batch_size, c, -1).mean(dim=2).reshape(batch_size, c, 1, 1)\n",
        "        return features_mean\n",
        "    \n",
        "    def _get_std(self, features):\n",
        "        batch_size, c = features.size()[:2]\n",
        "        features_std = features.reshape(batch_size, c, -1).std(dim=2).reshape(batch_size, c, 1, 1) + self.eps\n",
        "        return features_std\n",
        "\n",
        "    def forward(self, content, style):\n",
        "        content_mean, content_std = self._get_mean(content), self._get_std(content)\n",
        "        style_mean, style_std = self._get_mean(style), self._get_std(style)\n",
        "        normalized = style_std * (content - content_mean) / content_std + style_mean\n",
        "        return normalized"
      ],
      "metadata": {
        "id": "pm0u7GMPXpbq"
      },
      "execution_count": null,
      "outputs": []
    },
    {
      "cell_type": "code",
      "source": [
        "def fit_epoch(data_train, model, optimizer, criterion, epoch, epochs):\n",
        "    model.train()\n",
        "    running_loss = 0.0\n",
        "    processed_data = 0\n",
        "    for content, style in tqdm.tqdm(data_train, desc=f\"Fitting epoch {epoch}/{epochs}\", unit=\"batches\", unit_scale=False):\n",
        "        try:\n",
        "            content, style = content.to(DEVICE), style.to(DEVICE)\n",
        "            optimizer.zero_grad()\n",
        "            output, t = model(content, style)\n",
        "            loss = criterion(output, style, t)\n",
        "            loss.backward()\n",
        "            optimizer.step()\n",
        "            running_loss += loss.item() * content.size(0)\n",
        "            processed_data += content.size(0)\n",
        "        finally:\n",
        "            content, style = content.cpu(), style.cpu()\n",
        "            del content, style\n",
        "            torch.cuda.empty_cache()\n",
        "        train_loss = running_loss / processed_data\n",
        "        return train_loss\n",
        "\n",
        "def eval_epoch(data_val, model, criterion):\n",
        "    model.eval()\n",
        "    running_loss = 0.0\n",
        "    processed_data = 0\n",
        "\n",
        "    for content, style in tqdm.tqdm(data_val, desc=\"Validating\", unit=\"batches\", unit_scale=False):\n",
        "        try:\n",
        "            content, style = content.to(DEVICE), style.to(DEVICE)\n",
        "            with torch.no_grad():\n",
        "                styled, t = model.generate(content, style)\n",
        "                loss = criterion(styled, style, t)\n",
        "\n",
        "            running_loss = loss.item() * content.size(0)\n",
        "            processed_data += content.size(0)\n",
        "        finally:\n",
        "            content, style = content.cpu(), style.cpu()\n",
        "            del content, style\n",
        "            torch.cuda.empty_cache()\n",
        "    return styled, running_loss / processed_data\n",
        "\n",
        "def train_model(data_train, data_val, model, optimizer, criterion, epochs, batch_size, scheduler=None, start_epoch=0, checkpoint_cooldown=10):\n",
        "    history = []\n",
        "    log_template = \"\\nEpoch {ep: 03d} train_loss: {t_loss: 0.4f}\"\n",
        "    prev_lr = optimizer.param_groups[0][\"lr\"]\n",
        "    start_time = time.time()\n",
        "    with tqdm.tqdm(desc=\"Epoch\", total=epochs, unit=\"epoch\", unit_scale=False) as pbar:\n",
        "        for epoch in range(epochs):\n",
        "            try:\n",
        "                train_loss = fit_epoch(data_train, model, optimizer, criterion, epoch, epochs)\n",
        "                _, val_loss = eval_epoch(data_val, model, criterion)\n",
        "                if scheduler is not None:\n",
        "                    scheduler.step(val_loss)\n",
        "                IPython.display.clear_output(wait=True)\n",
        "                history.append((train_loss, val_loss, optimizer.param_groups[0][\"lr\"]))\n",
        "                show_pics_train(data_val, model, history[-1], epoch, epochs)\n",
        "                pbar.update(1)\n",
        "                pbar.refresh()\n",
        "\n",
        "                if (epoch + 1) % checkpoint_cooldown == 0:\n",
        "                    save_model(mode=\"training\", model=model, optimizer=optimizer, loss=criterion, history=history)\n",
        "            except KeyboardInterrupt as stop:\n",
        "                tqdm.tqdm.write(f\"Training interrupted at epoch {epoch + 1}. Returning history\")\n",
        "                return history\n",
        "    end_time = time.time()\n",
        "    train_time = end_time - start_time\n",
        "    tqdm.tqdm.write(f\"Overall training time: {train_time: 0.1f} seconds\")\n",
        "    return history"
      ],
      "metadata": {
        "id": "5-Af7Ln7bn_K"
      },
      "execution_count": null,
      "outputs": []
    },
    {
      "cell_type": "code",
      "source": [
        "def show_pics_train(data_val, model, history, epoch, epochs, sample_size):\n",
        "    log_template = \"Styled images on epoch {ep: 03d}/{epochs: 03d}.\\n\\\n",
        "    Train loss: {t_loss: 0.4f}, validation loss: {v_loss: 0.4f}\"\n",
        "    try:\n",
        "        nrow = int(np.ceil(np.sqrt(sample_size)))\n",
        "        styled, _ = "
      ],
      "metadata": {
        "id": "rdct7WZbdCki"
      },
      "execution_count": null,
      "outputs": []
    }
  ],
  "metadata": {
    "interpreter": {
      "hash": "70428b391d13c288dbc540caa5bc4ff6cb58f0c0c0cddfce18c6a3087b720a47"
    },
    "kernelspec": {
      "display_name": "Python 3.8.9 64-bit ('dls': virtualenv)",
      "language": "python",
      "name": "python3"
    },
    "language_info": {
      "codemirror_mode": {
        "name": "ipython",
        "version": 3
      },
      "file_extension": ".py",
      "mimetype": "text/x-python",
      "name": "python",
      "nbconvert_exporter": "python",
      "pygments_lexer": "ipython3",
      "version": "3.8.9"
    },
    "orig_nbformat": 4,
    "colab": {
      "name": "NST.ipynb",
      "provenance": []
    }
  },
  "nbformat": 4,
  "nbformat_minor": 0
}